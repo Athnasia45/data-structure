{
 "cells": [
  {
   "cell_type": "code",
   "execution_count": null,
   "id": "0e0c7e50",
   "metadata": {},
   "outputs": [],
   "source": []
  },
  {
   "cell_type": "code",
   "execution_count": 5,
   "id": "fc5ed8de",
   "metadata": {},
   "outputs": [
    {
     "name": "stdout",
     "output_type": "stream",
     "text": [
      "this is my ferst method\n",
      "this is my ferst method\n",
      "Instance2:your name ds\n",
      "Instance2:your name cs\n"
     ]
    }
   ],
   "source": [
    "class person:\n",
    "    color='red'\n",
    "    def __init__(self,name):\n",
    "       self.name=name\n",
    "       print(\"this is my ferst method\")\n",
    "    def desplay(self):\n",
    "       return f\"your name {self.name}\"\n",
    "    @classmethod\n",
    "    def class_desplay(cls):\n",
    "        return f\"your name is {self.name} and color is{cls.color}\"\n",
    "person1=person(\"ds\")\n",
    "person2=person(\"cs\")\n",
    "print(f\"Instance2:{person1.desplay()}\")\n",
    "print(f\"Instance2:{person2.desplay()}\")"
   ]
  },
  {
   "cell_type": "code",
   "execution_count": null,
   "id": "d1c34f8a",
   "metadata": {},
   "outputs": [
    {
     "name": "stdout",
     "output_type": "stream",
     "text": [
      "10\n",
      "None\n",
      "20\n",
      "None\n",
      "70\n",
      "None\n",
      "80\n",
      "None\n",
      "30\n",
      "None\n",
      "<__main__.node object at 0x0000028C7D1DA0D0>\n",
      "<__main__.node object at 0x0000028C7D1DA5D0>\n",
      "<__main__.node object at 0x0000028C7D15AEA0>\n",
      "<__main__.node object at 0x0000028C7D15AB10>\n"
     ]
    },
    {
     "ename": "AttributeError",
     "evalue": "'node' object has no attribute 'delete'",
     "output_type": "error",
     "traceback": [
      "\u001b[31m---------------------------------------------------------------------------\u001b[39m",
      "\u001b[31mAttributeError\u001b[39m                            Traceback (most recent call last)",
      "\u001b[36mCell\u001b[39m\u001b[36m \u001b[39m\u001b[32mIn[28]\u001b[39m\u001b[32m, line 31\u001b[39m\n\u001b[32m     29\u001b[39m node4.address=node5\n\u001b[32m     30\u001b[39m \u001b[38;5;28mprint\u001b[39m(node5)\n\u001b[32m---> \u001b[39m\u001b[32m31\u001b[39m \u001b[43mnode5\u001b[49m\u001b[43m.\u001b[49m\u001b[43mdelete\u001b[49m(\u001b[32m10\u001b[39m)\n",
      "\u001b[31mAttributeError\u001b[39m: 'node' object has no attribute 'delete'"
     ]
    }
   ],
   "source": [
    "class node:\n",
    "   def __init__(self,data):\n",
    "        self.data=data\n",
    "        self.address=None\n",
    "        \n",
    "node1=node(10)\n",
    "node2=node(20)\n",
    "node3=node(70)\n",
    "node4=node(80)\n",
    "node5=node(30)\n",
    "print(node1.data)\n",
    "print(node1.address)\n",
    "print(node2.data)\n",
    "print(node2.address)\n",
    "print(node3.data)\n",
    "print(node3.address)\n",
    "print(node4.data)\n",
    "print(node4.address)\n",
    "print(node5.data)\n",
    "print(node5.address)\n",
    "\n",
    "\n",
    "node1.address=node2\n",
    "print(node2)\n",
    "node2.address=node3\n",
    "print(node3)\n",
    "node3.address=node4\n",
    "print(node4)\n",
    "node4.address=node5\n",
    "print(node5)\n",
    "node5.address=node1\n",
    "print(node1)\n",
    "class linked_llist:\n",
    "    def __init__(self):\n",
    "        self.head=none\n",
    "    def traverse(self)\n",
    "        if self.head==None\n",
    "        return \"\"\n",
    "    "
   ]
  },
  {
   "cell_type": "markdown",
   "id": "5bde2544",
   "metadata": {},
   "source": [
    "node class alkefetkum"
   ]
  },
  {
   "cell_type": "code",
   "execution_count": null,
   "id": "3616c89a",
   "metadata": {},
   "outputs": [],
   "source": [
    "class linked_list:\n",
    "    def __init__(self):\n",
    "        self.start=none\n",
    "    def __init__(self,data):   \n",
    "        self.data=data\n",
    "        self.address=None\n",
    "    def InsertatB(self):\n",
    "        new_node=node(data)\n",
    "        if self.start==none:\n",
    "            self.start=new_node\n",
    "            return \"the linked list does not have an element\"\n",
    "        else:\n",
    "            return \"the linked list have an element\"\n",
    "        \n",
    "    def InsertatE(self):\n",
    "        new_node=self.start\n",
    "        if self.start=None:\n",
    "            self.start=new_node\n",
    "            return\n",
    "        couter=self.start\n",
    "        while couter.address:\n",
    "            counter=counter.address\n",
    "        counter.address=new_node\n",
    "        \n",
    "        \n",
    "    def InsertaSP(self,data,key):\n",
    "        new_node=node(data)\n",
    "        counter=self.start\n",
    "        while counter:\n",
    "            if counter.data==key:\n",
    "                new_node.address=counter.address\n",
    "                counter.address=new_node\n",
    "                counter=counter.address\n",
    "                return  "
   ]
  }
 ],
 "metadata": {
  "kernelspec": {
   "display_name": "Python 3",
   "language": "python",
   "name": "python3"
  },
  "language_info": {
   "codemirror_mode": {
    "name": "ipython",
    "version": 3
   },
   "file_extension": ".py",
   "mimetype": "text/x-python",
   "name": "python",
   "nbconvert_exporter": "python",
   "pygments_lexer": "ipython3",
   "version": "3.13.3"
  }
 },
 "nbformat": 4,
 "nbformat_minor": 5
}
